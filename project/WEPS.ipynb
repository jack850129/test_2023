{
 "cells": [
  {
   "cell_type": "code",
   "execution_count": 7,
   "metadata": {},
   "outputs": [],
   "source": [
    "import polars as pl \n",
    "import numpy as np "
   ]
  },
  {
   "cell_type": "code",
   "execution_count": 73,
   "metadata": {},
   "outputs": [
    {
     "data": {
      "text/html": [
       "<div><style>\n",
       ".dataframe > thead > tr > th,\n",
       ".dataframe > tbody > tr > td {\n",
       "  text-align: right;\n",
       "}\n",
       "</style>\n",
       "<small>shape: (79_151, 22)</small><table border=\"1\" class=\"dataframe\"><thead><tr><th>tej_fp_id</th><th>stk_id</th><th>tej_comp_id</th><th>stk_type</th><th>close</th><th>zdate</th><th>stk_ex_date</th><th>pre_close</th><th>ex_price</th><th>issue_share_tej</th><th>cashback</th><th>adjfac_type</th><th>j</th><th>adj</th><th>cap_dec_share</th><th>cap_dec_share_amt</th><th>issue_price</th><th>pre_ex_total_share</th><th>stkcap_total_share</th><th>year</th><th>month</th><th>M</th></tr><tr><td>i64</td><td>str</td><td>i64</td><td>str</td><td>f64</td><td>date</td><td>date</td><td>f64</td><td>f64</td><td>i64</td><td>f64</td><td>str</td><td>f64</td><td>f64</td><td>i64</td><td>i64</td><td>f64</td><td>i64</td><td>i64</td><td>i32</td><td>u32</td><td>u32</td></tr></thead><tbody><tr><td>53265</td><td>&quot;1416&quot;</td><td>34101</td><td>&quot;1&quot;</td><td>11.7</td><td>2023-06-16</td><td>2023-06-16</td><td>12.05</td><td>11.55</td><td>185342168</td><td>null</td><td>&quot;TB&quot;</td><td>0.958506</td><td>1.0</td><td>null</td><td>null</td><td>null</td><td>null</td><td>null</td><td>2023</td><td>6</td><td>6</td></tr><tr><td>54577</td><td>&quot;2385&quot;</td><td>29459</td><td>&quot;1&quot;</td><td>95.2</td><td>2023-06-16</td><td>2023-06-16</td><td>105.0</td><td>97.5</td><td>760053172</td><td>null</td><td>&quot;TB&quot;</td><td>0.928571</td><td>1.0</td><td>null</td><td>null</td><td>null</td><td>null</td><td>null</td><td>2023</td><td>6</td><td>6</td></tr><tr><td>54589</td><td>&quot;2388&quot;</td><td>38486</td><td>&quot;1&quot;</td><td>84.6</td><td>2023-06-16</td><td>2023-06-16</td><td>81.9</td><td>81.75</td><td>498344941</td><td>null</td><td>&quot;TB&quot;</td><td>0.998168</td><td>1.0</td><td>null</td><td>null</td><td>null</td><td>null</td><td>null</td><td>2023</td><td>6</td><td>6</td></tr><tr><td>55365</td><td>&quot;2723&quot;</td><td>32438</td><td>&quot;1&quot;</td><td>150.0</td><td>2023-06-16</td><td>2023-06-16</td><td>154.0</td><td>151.5</td><td>180000000</td><td>null</td><td>&quot;TB&quot;</td><td>0.983766</td><td>1.0</td><td>null</td><td>null</td><td>null</td><td>null</td><td>null</td><td>2023</td><td>6</td><td>6</td></tr><tr><td>56672</td><td>&quot;3679&quot;</td><td>33842</td><td>&quot;1&quot;</td><td>85.7</td><td>2023-06-16</td><td>2023-06-16</td><td>94.7</td><td>84.7</td><td>63024229</td><td>null</td><td>&quot;TB&quot;</td><td>0.894403</td><td>1.0</td><td>null</td><td>null</td><td>null</td><td>null</td><td>null</td><td>2023</td><td>6</td><td>6</td></tr><tr><td>56673</td><td>&quot;3680&quot;</td><td>28523</td><td>&quot;1&quot;</td><td>400.5</td><td>2023-06-16</td><td>2023-06-16</td><td>406.0</td><td>402.06</td><td>86588210</td><td>null</td><td>&quot;TB&quot;</td><td>0.990271</td><td>1.0</td><td>null</td><td>null</td><td>null</td><td>null</td><td>null</td><td>2023</td><td>6</td><td>6</td></tr><tr><td>56727</td><td>&quot;4128&quot;</td><td>35744</td><td>&quot;1&quot;</td><td>57.5</td><td>2023-06-16</td><td>2023-06-16</td><td>61.3</td><td>55.89</td><td>560162474</td><td>0.0</td><td>&quot;TB&quot;</td><td>0.911746</td><td>1.0</td><td>0</td><td>0</td><td>0.0</td><td>511097148</td><td>560162474</td><td>2023</td><td>6</td><td>6</td></tr><tr><td>56902</td><td>&quot;4743&quot;</td><td>33163</td><td>&quot;1&quot;</td><td>216.0</td><td>2023-06-16</td><td>2023-06-16</td><td>230.5</td><td>202.51</td><td>450613425</td><td>0.0</td><td>&quot;TB&quot;</td><td>0.877874</td><td>1.0</td><td>0</td><td>0</td><td>0.0</td><td>395765227</td><td>450613425</td><td>2023</td><td>6</td><td>6</td></tr><tr><td>56991</td><td>&quot;4974&quot;</td><td>36981</td><td>&quot;1&quot;</td><td>65.2</td><td>2023-06-16</td><td>2023-06-16</td><td>71.4</td><td>65.6</td><td>72500104</td><td>null</td><td>&quot;TB&quot;</td><td>0.918768</td><td>1.0</td><td>null</td><td>null</td><td>null</td><td>null</td><td>null</td><td>2023</td><td>6</td><td>6</td></tr><tr><td>57007</td><td>&quot;4994&quot;</td><td>27771</td><td>&quot;1&quot;</td><td>45.25</td><td>2023-06-16</td><td>2023-06-16</td><td>45.7</td><td>45.2</td><td>110639000</td><td>null</td><td>&quot;TB&quot;</td><td>0.989059</td><td>1.0</td><td>null</td><td>null</td><td>null</td><td>null</td><td>null</td><td>2023</td><td>6</td><td>6</td></tr><tr><td>57229</td><td>&quot;5403&quot;</td><td>27269</td><td>&quot;1&quot;</td><td>103.5</td><td>2023-06-16</td><td>2023-06-16</td><td>108.0</td><td>103.0</td><td>74308998</td><td>null</td><td>&quot;TB&quot;</td><td>0.953611</td><td>1.0</td><td>null</td><td>null</td><td>null</td><td>null</td><td>null</td><td>2023</td><td>6</td><td>6</td></tr><tr><td>57240</td><td>&quot;5438&quot;</td><td>28190</td><td>&quot;1&quot;</td><td>19.85</td><td>2023-06-16</td><td>2023-06-16</td><td>20.55</td><td>20.04</td><td>112536565</td><td>null</td><td>&quot;TB&quot;</td><td>0.975182</td><td>1.0</td><td>null</td><td>null</td><td>null</td><td>null</td><td>null</td><td>2023</td><td>6</td><td>6</td></tr><tr><td>&hellip;</td><td>&hellip;</td><td>&hellip;</td><td>&hellip;</td><td>&hellip;</td><td>&hellip;</td><td>&hellip;</td><td>&hellip;</td><td>&hellip;</td><td>&hellip;</td><td>&hellip;</td><td>&hellip;</td><td>&hellip;</td><td>&hellip;</td><td>&hellip;</td><td>&hellip;</td><td>&hellip;</td><td>&hellip;</td><td>&hellip;</td><td>&hellip;</td><td>&hellip;</td><td>&hellip;</td></tr><tr><td>53020</td><td>&quot;1103&quot;</td><td>26902</td><td>&quot;1&quot;</td><td>0.0</td><td>1971-03-25</td><td>1971-03-25</td><td>35.15</td><td>31.15</td><td>8400000</td><td>null</td><td>&quot;TB&quot;</td><td>0.886202</td><td>0.003016</td><td>null</td><td>null</td><td>null</td><td>null</td><td>null</td><td>1971</td><td>3</td><td>9</td></tr><tr><td>53583</td><td>&quot;1602&quot;</td><td>25423</td><td>&quot;1&quot;</td><td>20.8</td><td>1971-03-25</td><td>1971-03-25</td><td>23.24</td><td>20.24</td><td>16706300</td><td>null</td><td>&quot;TB&quot;</td><td>0.870912</td><td>0.008715</td><td>null</td><td>null</td><td>null</td><td>null</td><td>null</td><td>1971</td><td>3</td><td>9</td></tr><tr><td>53601</td><td>&quot;1604&quot;</td><td>25629</td><td>&quot;1&quot;</td><td>19.5</td><td>1971-03-25</td><td>1971-03-25</td><td>20.1</td><td>19.1</td><td>15000000</td><td>null</td><td>&quot;TB&quot;</td><td>0.950249</td><td>0.010492</td><td>null</td><td>null</td><td>null</td><td>null</td><td>null</td><td>1971</td><td>3</td><td>9</td></tr><tr><td>53042</td><td>&quot;1201&quot;</td><td>26751</td><td>&quot;1&quot;</td><td>16.5</td><td>1971-03-23</td><td>1971-03-23</td><td>17.15</td><td>16.15</td><td>22500000</td><td>null</td><td>&quot;TB&quot;</td><td>0.941691</td><td>0.025222</td><td>null</td><td>null</td><td>null</td><td>null</td><td>null</td><td>1971</td><td>3</td><td>9</td></tr><tr><td>53157</td><td>&quot;1301&quot;</td><td>36422</td><td>&quot;1&quot;</td><td>20.4</td><td>1971-03-20</td><td>1971-03-20</td><td>21.46</td><td>20.06</td><td>39171200</td><td>null</td><td>&quot;TB&quot;</td><td>0.934762</td><td>0.001285</td><td>null</td><td>null</td><td>null</td><td>null</td><td>null</td><td>1971</td><td>3</td><td>9</td></tr><tr><td>53166</td><td>&quot;1303&quot;</td><td>36387</td><td>&quot;1&quot;</td><td>24.0</td><td>1971-03-10</td><td>1971-03-10</td><td>25.8</td><td>24.2</td><td>60574500</td><td>null</td><td>&quot;TB&quot;</td><td>0.937984</td><td>0.001245</td><td>null</td><td>null</td><td>null</td><td>null</td><td>null</td><td>1971</td><td>3</td><td>9</td></tr><tr><td>53013</td><td>&quot;1101&quot;</td><td>26914</td><td>&quot;1&quot;</td><td>12.85</td><td>1971-03-09</td><td>1971-03-09</td><td>13.9</td><td>12.55</td><td>80000000</td><td>null</td><td>&quot;TB&quot;</td><td>0.902878</td><td>0.003691</td><td>null</td><td>null</td><td>null</td><td>null</td><td>null</td><td>1971</td><td>3</td><td>9</td></tr><tr><td>53581</td><td>&quot;1601&quot;</td><td>26926</td><td>&quot;1&quot;</td><td>0.0</td><td>1971-03-03</td><td>1971-03-03</td><td>26.2</td><td>24.2</td><td>6000000</td><td>null</td><td>&quot;TB&quot;</td><td>0.923664</td><td>0.029303</td><td>null</td><td>null</td><td>null</td><td>null</td><td>null</td><td>1971</td><td>3</td><td>9</td></tr><tr><td>53412</td><td>&quot;1503&quot;</td><td>26656</td><td>&quot;1&quot;</td><td>22.3</td><td>1971-02-22</td><td>1971-02-22</td><td>23.6</td><td>22.1</td><td>4600000</td><td>null</td><td>&quot;TB&quot;</td><td>0.936441</td><td>0.005591</td><td>null</td><td>null</td><td>null</td><td>null</td><td>null</td><td>1971</td><td>2</td><td>10</td></tr><tr><td>53601</td><td>&quot;1604&quot;</td><td>25629</td><td>&quot;1&quot;</td><td>20.45</td><td>1971-02-06</td><td>1971-02-06</td><td>21.3</td><td>19.9</td><td>15000000</td><td>0.0</td><td>&quot;TB&quot;</td><td>0.934272</td><td>0.00997</td><td>0</td><td>0</td><td>17.1</td><td>10000000</td><td>15000000</td><td>1971</td><td>2</td><td>10</td></tr><tr><td>53834</td><td>&quot;1903&quot;</td><td>26655</td><td>&quot;1&quot;</td><td>7.04</td><td>1971-02-06</td><td>1971-02-06</td><td>10.2</td><td>6.98</td><td>6000000</td><td>null</td><td>&quot;TB&quot;</td><td>0.684314</td><td>0.005155</td><td>null</td><td>null</td><td>null</td><td>null</td><td>null</td><td>1971</td><td>2</td><td>10</td></tr><tr><td>53048</td><td>&quot;1204&quot;</td><td>26787</td><td>&quot;1&quot;</td><td>12.22</td><td>1971-01-05</td><td>1971-01-05</td><td>null</td><td>null</td><td>11000000</td><td>0.0</td><td>&quot;TB&quot;</td><td>1.0</td><td>1.118512</td><td>0</td><td>0</td><td>10.0</td><td>8600000</td><td>11000000</td><td>1971</td><td>1</td><td>11</td></tr></tbody></table></div>"
      ],
      "text/plain": [
       "shape: (79_151, 22)\n",
       "┌───────────┬────────┬─────────────┬──────────┬───┬────────────────────┬──────┬───────┬─────┐\n",
       "│ tej_fp_id ┆ stk_id ┆ tej_comp_id ┆ stk_type ┆ … ┆ stkcap_total_share ┆ year ┆ month ┆ M   │\n",
       "│ ---       ┆ ---    ┆ ---         ┆ ---      ┆   ┆ ---                ┆ ---  ┆ ---   ┆ --- │\n",
       "│ i64       ┆ str    ┆ i64         ┆ str      ┆   ┆ i64                ┆ i32  ┆ u32   ┆ u32 │\n",
       "╞═══════════╪════════╪═════════════╪══════════╪═══╪════════════════════╪══════╪═══════╪═════╡\n",
       "│ 53265     ┆ 1416   ┆ 34101       ┆ 1        ┆ … ┆ null               ┆ 2023 ┆ 6     ┆ 6   │\n",
       "│ 54577     ┆ 2385   ┆ 29459       ┆ 1        ┆ … ┆ null               ┆ 2023 ┆ 6     ┆ 6   │\n",
       "│ 54589     ┆ 2388   ┆ 38486       ┆ 1        ┆ … ┆ null               ┆ 2023 ┆ 6     ┆ 6   │\n",
       "│ 55365     ┆ 2723   ┆ 32438       ┆ 1        ┆ … ┆ null               ┆ 2023 ┆ 6     ┆ 6   │\n",
       "│ …         ┆ …      ┆ …           ┆ …        ┆ … ┆ …                  ┆ …    ┆ …     ┆ …   │\n",
       "│ 53412     ┆ 1503   ┆ 26656       ┆ 1        ┆ … ┆ null               ┆ 1971 ┆ 2     ┆ 10  │\n",
       "│ 53601     ┆ 1604   ┆ 25629       ┆ 1        ┆ … ┆ 15000000           ┆ 1971 ┆ 2     ┆ 10  │\n",
       "│ 53834     ┆ 1903   ┆ 26655       ┆ 1        ┆ … ┆ null               ┆ 1971 ┆ 2     ┆ 10  │\n",
       "│ 53048     ┆ 1204   ┆ 26787       ┆ 1        ┆ … ┆ 11000000           ┆ 1971 ┆ 1     ┆ 11  │\n",
       "└───────────┴────────┴─────────────┴──────────┴───┴────────────────────┴──────┴───────┴─────┘"
      ]
     },
     "execution_count": 73,
     "metadata": {},
     "output_type": "execute_result"
    }
   ],
   "source": [
    "df = pl.read_csv('D:/WAIS.csv', try_parse_dates=True,infer_schema_length=10000)\n",
    "\n",
    "# df = df.with_columns(pl.col(\"stk_ex_date\").str.strptime(pl.Date, format=\"%Y-%m-%d\"))\n",
    "# df = df.with_columns(\n",
    "#     df['pre_close'].cast(pl.Float64),\n",
    "#     df['ex_price'].cast(pl.Float64),\n",
    "#     df['issue_price'].cast(pl.Float64),\n",
    "#     df['pre_ex_total_share'].cast(pl.Int64),\n",
    "#     df['stkcap_total_share'].cast(pl.Int64))\n",
    "df_with_year = df.with_columns(pl.col(\"zdate\").dt.year().alias(\"year\"))\n",
    "df_with_year_month = df_with_year.with_columns(pl.col(\"zdate\").dt.month().alias(\"month\"))\n",
    "df2 = df_with_year_month.filter(pl.col(\"stk_ex_date\") .is_not_null())\n",
    "df2 = df2.filter(pl.col(\"adjfac_type\") =='TB')\n",
    "# df2 = df2.filter(pl.col(\"pre_ex_total_share\") .is_not_null())\n",
    "# df2 = df2.filter(pl.col(\"issue_price\") .is_not_null())\n",
    "# df2 = df2.filter(pl.col(\"issue_price\") != 0)\n",
    "df_test = df2.with_columns((12-pl.col(\"month\")).alias(\"M\"))\n",
    "# df_test = df_test.with_columns((pl.col(\"ex_price\")/pl.col(\"pre_close\")).alias(\"J\"))\n",
    "df_test\n",
    "# df_with_year_month"
   ]
  },
  {
   "cell_type": "code",
   "execution_count": 69,
   "metadata": {},
   "outputs": [
    {
     "data": {
      "text/html": [
       "<div><style>\n",
       ".dataframe > thead > tr > th,\n",
       ".dataframe > tbody > tr > td {\n",
       "  text-align: right;\n",
       "}\n",
       "</style>\n",
       "<small>shape: (306_854, 14)</small><table border=\"1\" class=\"dataframe\"><thead><tr><th>tej_comp_id</th><th>zdate</th><th>fin_aq</th><th>quarter</th><th>fin_type</th><th>wavg_com</th><th>netprofit_com</th><th>eps_com</th><th>cashflow_operate_com</th><th>par_Buyback_com</th><th>chi_Buyback_com</th><th>Buyback_com</th><th>month</th><th>year</th></tr><tr><td>i64</td><td>date</td><td>str</td><td>i64</td><td>str</td><td>f64</td><td>f64</td><td>f64</td><td>f64</td><td>f64</td><td>f64</td><td>f64</td><td>u32</td><td>i32</td></tr></thead><tbody><tr><td>25574</td><td>1975-01-01</td><td>&quot;A&quot;</td><td>4</td><td>&quot;A&quot;</td><td>22000.0</td><td>84717.0</td><td>3.85</td><td>null</td><td>0.0</td><td>0.0</td><td>0.0</td><td>12</td><td>1975</td></tr><tr><td>25830</td><td>1975-01-01</td><td>&quot;A&quot;</td><td>4</td><td>&quot;A&quot;</td><td>5000.0</td><td>12071.0</td><td>2.41</td><td>null</td><td>0.0</td><td>0.0</td><td>0.0</td><td>12</td><td>1975</td></tr><tr><td>26787</td><td>1975-01-01</td><td>&quot;A&quot;</td><td>4</td><td>&quot;A&quot;</td><td>20000.0</td><td>469.0</td><td>0.02</td><td>null</td><td>null</td><td>null</td><td>null</td><td>12</td><td>1975</td></tr><tr><td>32286</td><td>1975-01-01</td><td>&quot;A&quot;</td><td>4</td><td>&quot;A&quot;</td><td>10000.0</td><td>43122.0</td><td>4.31</td><td>null</td><td>0.0</td><td>0.0</td><td>0.0</td><td>12</td><td>1975</td></tr><tr><td>36284</td><td>1975-01-01</td><td>&quot;A&quot;</td><td>4</td><td>&quot;A&quot;</td><td>12500.0</td><td>11569.0</td><td>0.93</td><td>null</td><td>0.0</td><td>0.0</td><td>0.0</td><td>12</td><td>1975</td></tr><tr><td>25573</td><td>1976-01-01</td><td>&quot;A&quot;</td><td>4</td><td>&quot;A&quot;</td><td>12500.0</td><td>-2136.0</td><td>-0.17</td><td>null</td><td>0.0</td><td>0.0</td><td>0.0</td><td>12</td><td>1976</td></tr><tr><td>25574</td><td>1976-01-01</td><td>&quot;A&quot;</td><td>4</td><td>&quot;A&quot;</td><td>30000.0</td><td>80255.0</td><td>2.68</td><td>null</td><td>0.0</td><td>0.0</td><td>0.0</td><td>12</td><td>1976</td></tr><tr><td>25830</td><td>1976-01-01</td><td>&quot;A&quot;</td><td>4</td><td>&quot;A&quot;</td><td>8000.0</td><td>7672.0</td><td>0.96</td><td>null</td><td>0.0</td><td>0.0</td><td>0.0</td><td>12</td><td>1976</td></tr><tr><td>26352</td><td>1976-01-01</td><td>&quot;A&quot;</td><td>4</td><td>&quot;A&quot;</td><td>8000.0</td><td>2.22</td><td>0.28</td><td>null</td><td>0.0</td><td>0.0</td><td>0.0</td><td>12</td><td>1976</td></tr><tr><td>26787</td><td>1976-01-01</td><td>&quot;A&quot;</td><td>4</td><td>&quot;A&quot;</td><td>20000.0</td><td>-12632.0</td><td>-0.63</td><td>null</td><td>null</td><td>null</td><td>null</td><td>12</td><td>1976</td></tr><tr><td>26814</td><td>1976-01-01</td><td>&quot;A&quot;</td><td>4</td><td>&quot;A&quot;</td><td>4000.0</td><td>-3386.0</td><td>-0.85</td><td>null</td><td>0.0</td><td>0.0</td><td>0.0</td><td>12</td><td>1976</td></tr><tr><td>27932</td><td>1976-01-01</td><td>&quot;A&quot;</td><td>4</td><td>&quot;A&quot;</td><td>36000.0</td><td>46563.0</td><td>1.29</td><td>null</td><td>0.0</td><td>0.0</td><td>0.0</td><td>12</td><td>1976</td></tr><tr><td>&hellip;</td><td>&hellip;</td><td>&hellip;</td><td>&hellip;</td><td>&hellip;</td><td>&hellip;</td><td>&hellip;</td><td>&hellip;</td><td>&hellip;</td><td>&hellip;</td><td>&hellip;</td><td>&hellip;</td><td>&hellip;</td><td>&hellip;</td></tr><tr><td>34338</td><td>2022-01-01</td><td>&quot;A&quot;</td><td>1</td><td>&quot;M&quot;</td><td>57041.0</td><td>389060.0</td><td>6.82071</td><td>25354.0</td><td>953.0</td><td>0.0</td><td>953.0</td><td>3</td><td>2022</td></tr><tr><td>35089</td><td>2023-01-01</td><td>&quot;A&quot;</td><td>1</td><td>&quot;M&quot;</td><td>298984.0</td><td>565182.0</td><td>1.89034</td><td>-3.400397e6</td><td>0.0</td><td>0.0</td><td>0.0</td><td>3</td><td>2023</td></tr><tr><td>37295</td><td>2023-01-01</td><td>&quot;A&quot;</td><td>1</td><td>&quot;M&quot;</td><td>98772.0</td><td>215736.0</td><td>2.18418</td><td>478974.0</td><td>771.0</td><td>0.0</td><td>771.0</td><td>3</td><td>2023</td></tr><tr><td>28445</td><td>2022-01-01</td><td>&quot;A&quot;</td><td>1</td><td>&quot;M&quot;</td><td>89822.0</td><td>52203.0</td><td>0.58118</td><td>-106064.0</td><td>0.0</td><td>0.0</td><td>0.0</td><td>3</td><td>2022</td></tr><tr><td>34710</td><td>2022-01-01</td><td>&quot;A&quot;</td><td>1</td><td>&quot;M&quot;</td><td>1.197306e6</td><td>531869.0</td><td>0.44422</td><td>-1.834953e6</td><td>0.0</td><td>9250.0</td><td>9250.0</td><td>3</td><td>2022</td></tr><tr><td>36735</td><td>2022-01-01</td><td>&quot;A&quot;</td><td>1</td><td>&quot;M&quot;</td><td>55454.0</td><td>93957.0</td><td>1.81297</td><td>11835.0</td><td>0.0</td><td>0.0</td><td>0.0</td><td>3</td><td>2022</td></tr><tr><td>36968</td><td>2022-01-01</td><td>&quot;A&quot;</td><td>1</td><td>&quot;M&quot;</td><td>93042.0</td><td>-36401.0</td><td>-0.39123</td><td>-82888.0</td><td>0.0</td><td>0.0</td><td>0.0</td><td>3</td><td>2022</td></tr><tr><td>37452</td><td>2023-01-01</td><td>&quot;A&quot;</td><td>1</td><td>&quot;M&quot;</td><td>60176.0</td><td>84458.0</td><td>1.40352</td><td>50101.0</td><td>0.0</td><td>0.0</td><td>0.0</td><td>3</td><td>2023</td></tr><tr><td>26101</td><td>2022-01-01</td><td>&quot;A&quot;</td><td>1</td><td>&quot;M&quot;</td><td>117006.0</td><td>4268.0</td><td>0.03648</td><td>-64562.0</td><td>0.0</td><td>0.0</td><td>0.0</td><td>3</td><td>2022</td></tr><tr><td>38996</td><td>2022-01-01</td><td>&quot;A&quot;</td><td>1</td><td>&quot;M&quot;</td><td>146506.0</td><td>-11059.0</td><td>-0.07548</td><td>13058.0</td><td>1400.0</td><td>0.0</td><td>1400.0</td><td>3</td><td>2022</td></tr><tr><td>29939</td><td>2022-01-01</td><td>&quot;A&quot;</td><td>1</td><td>&quot;M&quot;</td><td>106152.0</td><td>1.384011e6</td><td>13.03441</td><td>985846.0</td><td>0.0</td><td>0.0</td><td>0.0</td><td>3</td><td>2022</td></tr><tr><td>29939</td><td>2023-01-01</td><td>&quot;A&quot;</td><td>1</td><td>&quot;M&quot;</td><td>107830.0</td><td>1.181527e6</td><td>10.95731</td><td>3.086626e6</td><td>0.0</td><td>0.0</td><td>0.0</td><td>3</td><td>2023</td></tr></tbody></table></div>"
      ],
      "text/plain": [
       "shape: (306_854, 14)\n",
       "┌─────────────┬────────────┬────────┬─────────┬───┬─────────────────┬─────────────┬───────┬──────┐\n",
       "│ tej_comp_id ┆ zdate      ┆ fin_aq ┆ quarter ┆ … ┆ chi_Buyback_com ┆ Buyback_com ┆ month ┆ year │\n",
       "│ ---         ┆ ---        ┆ ---    ┆ ---     ┆   ┆ ---             ┆ ---         ┆ ---   ┆ ---  │\n",
       "│ i64         ┆ date       ┆ str    ┆ i64     ┆   ┆ f64             ┆ f64         ┆ u32   ┆ i32  │\n",
       "╞═════════════╪════════════╪════════╪═════════╪═══╪═════════════════╪═════════════╪═══════╪══════╡\n",
       "│ 25574       ┆ 1975-01-01 ┆ A      ┆ 4       ┆ … ┆ 0.0             ┆ 0.0         ┆ 12    ┆ 1975 │\n",
       "│ 25830       ┆ 1975-01-01 ┆ A      ┆ 4       ┆ … ┆ 0.0             ┆ 0.0         ┆ 12    ┆ 1975 │\n",
       "│ 26787       ┆ 1975-01-01 ┆ A      ┆ 4       ┆ … ┆ null            ┆ null        ┆ 12    ┆ 1975 │\n",
       "│ 32286       ┆ 1975-01-01 ┆ A      ┆ 4       ┆ … ┆ 0.0             ┆ 0.0         ┆ 12    ┆ 1975 │\n",
       "│ …           ┆ …          ┆ …      ┆ …       ┆ … ┆ …               ┆ …           ┆ …     ┆ …    │\n",
       "│ 26101       ┆ 2022-01-01 ┆ A      ┆ 1       ┆ … ┆ 0.0             ┆ 0.0         ┆ 3     ┆ 2022 │\n",
       "│ 38996       ┆ 2022-01-01 ┆ A      ┆ 1       ┆ … ┆ 0.0             ┆ 1400.0      ┆ 3     ┆ 2022 │\n",
       "│ 29939       ┆ 2022-01-01 ┆ A      ┆ 1       ┆ … ┆ 0.0             ┆ 0.0         ┆ 3     ┆ 2022 │\n",
       "│ 29939       ┆ 2023-01-01 ┆ A      ┆ 1       ┆ … ┆ 0.0             ┆ 0.0         ┆ 3     ┆ 2023 │\n",
       "└─────────────┴────────────┴────────┴─────────┴───┴─────────────────┴─────────────┴───────┴──────┘"
      ]
     },
     "execution_count": 69,
     "metadata": {},
     "output_type": "execute_result"
    }
   ],
   "source": [
    "df = pl.read_csv('D:/WAISFIN.csv', try_parse_dates=True)\n",
    "selected_columns = ['tej_comp_id', 'fin_year', 'quarter','fin_type','fin_aq','acc_code','acc_value']\n",
    "df_selected = df.select(selected_columns)\n",
    "\n",
    "transposed = df_selected.pivot( values=\"acc_value\", index=[\"tej_comp_id\", 'fin_year','fin_aq', 'quarter','fin_type'], columns=\"acc_code\", aggregate_function=\"first\")\n",
    "acc_transposed = transposed.select('tej_comp_id', pl.col('fin_year').alias('zdate'),'fin_aq', 'quarter','fin_type',pl.col('211F').alias('wavg_com')\n",
    "                        ,pl.col('3950').alias('netprofit_com')\n",
    "                        ,pl.col('3990').alias('eps_com')\n",
    "                        ,pl.col('7210').alias('cashflow_operate_com')\n",
    "                        ,pl.col('240D').alias('par_Buyback_com')\n",
    "                        ,pl.col('240E').alias('chi_Buyback_com')\n",
    "                        ,pl.col('240G').alias('Buyback_com'))\n",
    "acc_transposed = acc_transposed.with_columns('quarter',pl.when(acc_transposed['quarter'] == 4).then(12)\n",
    "                                             .when(acc_transposed['quarter'] == 3).then(9)\n",
    "                                             .when(acc_transposed['quarter'] == 2).then(6)\n",
    "                                             .when(acc_transposed['quarter'] == 1).then(3).alias('month').cast(pl.UInt32),\n",
    "                                             pl.col(\"zdate\").dt.year().alias(\"year\").cast(pl.Int32))\n",
    "acc_transposed"
   ]
  },
  {
   "cell_type": "code",
   "execution_count": 77,
   "metadata": {},
   "outputs": [
    {
     "data": {
      "text/html": [
       "<div><style>\n",
       ".dataframe > thead > tr > th,\n",
       ".dataframe > tbody > tr > td {\n",
       "  text-align: right;\n",
       "}\n",
       "</style>\n",
       "<small>shape: (32_825, 34)</small><table border=\"1\" class=\"dataframe\"><thead><tr><th>tej_fp_id</th><th>stk_id</th><th>tej_comp_id</th><th>stk_type</th><th>close</th><th>zdate</th><th>stk_ex_date</th><th>pre_close</th><th>ex_price</th><th>issue_share_tej</th><th>cashback</th><th>adjfac_type</th><th>j</th><th>adj</th><th>cap_dec_share</th><th>cap_dec_share_amt</th><th>issue_price</th><th>pre_ex_total_share</th><th>stkcap_total_share</th><th>year</th><th>month</th><th>M</th><th>zdate_right</th><th>fin_aq</th><th>quarter</th><th>fin_type</th><th>wavg_com</th><th>netprofit_com</th><th>eps_com</th><th>cashflow_operate_com</th><th>par_Buyback_com</th><th>chi_Buyback_com</th><th>Buyback_com</th><th>year_month</th></tr><tr><td>i64</td><td>str</td><td>i64</td><td>str</td><td>f64</td><td>date</td><td>date</td><td>f64</td><td>f64</td><td>i64</td><td>f64</td><td>str</td><td>f64</td><td>f64</td><td>i64</td><td>i64</td><td>f64</td><td>i64</td><td>i64</td><td>i32</td><td>u32</td><td>u32</td><td>date</td><td>str</td><td>i64</td><td>str</td><td>f64</td><td>f64</td><td>f64</td><td>f64</td><td>f64</td><td>f64</td><td>f64</td><td>str</td></tr></thead><tbody><tr><td>53791</td><td>&quot;1801&quot;</td><td>34343</td><td>&quot;1&quot;</td><td>40.6</td><td>1979-12-26</td><td>1979-12-26</td><td>44.8</td><td>39.65</td><td>30510000</td><td>0.0</td><td>&quot;TB&quot;</td><td>0.910491</td><td>0.489752</td><td>0</td><td>0</td><td>10.0</td><td>27000000</td><td>30510000</td><td>1979</td><td>12</td><td>0</td><td>1979-01-01</td><td>&quot;A&quot;</td><td>4</td><td>&quot;A&quot;</td><td>30510.0</td><td>128060.0</td><td>4.2</td><td>null</td><td>0.0</td><td>0.0</td><td>0.0</td><td>&quot;197912&quot;</td></tr><tr><td>58408</td><td>&quot;8701&quot;</td><td>35009</td><td>&quot;1&quot;</td><td>16.9</td><td>1980-12-10</td><td>1980-12-10</td><td>18.1</td><td>16.48</td><td>20000000</td><td>0.0</td><td>&quot;TB&quot;</td><td>0.910497</td><td>0.29676</td><td>0</td><td>0</td><td>10.0</td><td>16000000</td><td>20000000</td><td>1980</td><td>12</td><td>0</td><td>1980-01-01</td><td>&quot;A&quot;</td><td>4</td><td>&quot;A&quot;</td><td>16000.0</td><td>30328.0</td><td>1.9</td><td>null</td><td>0.0</td><td>0.0</td><td>0.0</td><td>&quot;198012&quot;</td></tr><tr><td>54041</td><td>&quot;2102&quot;</td><td>34187</td><td>&quot;1&quot;</td><td>23.0</td><td>1981-12-07</td><td>1981-12-07</td><td>23.8</td><td>21.63</td><td>47850000</td><td>0.0</td><td>&quot;TB&quot;</td><td>0.908824</td><td>0.095854</td><td>0</td><td>0</td><td>0.0</td><td>43500000</td><td>47850000</td><td>1981</td><td>12</td><td>0</td><td>1981-01-01</td><td>&quot;A&quot;</td><td>4</td><td>&quot;A&quot;</td><td>47850.0</td><td>-8374.0</td><td>-0.18</td><td>null</td><td>0.0</td><td>0.0</td><td>0.0</td><td>&quot;198112&quot;</td></tr><tr><td>53046</td><td>&quot;1203&quot;</td><td>26360</td><td>&quot;1&quot;</td><td>11.45</td><td>1981-12-10</td><td>1981-12-10</td><td>11.8</td><td>11.23</td><td>105000000</td><td>0.0</td><td>&quot;TB&quot;</td><td>0.951695</td><td>0.185392</td><td>0</td><td>0</td><td>0.0</td><td>100000000</td><td>105000000</td><td>1981</td><td>12</td><td>0</td><td>1981-01-01</td><td>&quot;A&quot;</td><td>4</td><td>&quot;A&quot;</td><td>105000.0</td><td>-19583.0</td><td>-0.19</td><td>null</td><td>0.0</td><td>0.0</td><td>0.0</td><td>&quot;198112&quot;</td></tr><tr><td>54515</td><td>&quot;2371&quot;</td><td>26651</td><td>&quot;1&quot;</td><td>10.0</td><td>1981-12-12</td><td>1981-12-12</td><td>10.6</td><td>9.37</td><td>413750000</td><td>0.0</td><td>&quot;TB&quot;</td><td>0.891509</td><td>0.204468</td><td>0</td><td>0</td><td>10.0</td><td>365000000</td><td>413750000</td><td>1981</td><td>12</td><td>0</td><td>1981-01-01</td><td>&quot;A&quot;</td><td>4</td><td>&quot;A&quot;</td><td>413750.0</td><td>148991.0</td><td>0.36</td><td>995659.0</td><td>0.0</td><td>0.0</td><td>0.0</td><td>&quot;198112&quot;</td></tr><tr><td>55577</td><td>&quot;2901&quot;</td><td>26756</td><td>&quot;1&quot;</td><td>20.6</td><td>1981-12-14</td><td>1981-12-14</td><td>23.3</td><td>19.47</td><td>27572000</td><td>0.0</td><td>&quot;TB&quot;</td><td>0.835622</td><td>0.418258</td><td>0</td><td>0</td><td>10.0</td><td>20900000</td><td>27572000</td><td>1981</td><td>12</td><td>0</td><td>1981-01-01</td><td>&quot;A&quot;</td><td>4</td><td>&quot;A&quot;</td><td>20067.0</td><td>3001.0</td><td>0.15</td><td>-2228.0</td><td>0.0</td><td>0.0</td><td>0.0</td><td>&quot;198112&quot;</td></tr><tr><td>53245</td><td>&quot;1408&quot;</td><td>33710</td><td>&quot;1&quot;</td><td>9.5</td><td>1981-12-15</td><td>1981-12-15</td><td>9.35</td><td>9.35</td><td>219562200</td><td>null</td><td>&quot;TB&quot;</td><td>1.0</td><td>0.558982</td><td>null</td><td>null</td><td>null</td><td>201275300</td><td>219562200</td><td>1981</td><td>12</td><td>0</td><td>1981-01-01</td><td>&quot;A&quot;</td><td>4</td><td>&quot;A&quot;</td><td>219562.2</td><td>46000.0</td><td>0.21</td><td>null</td><td>0.0</td><td>0.0</td><td>0.0</td><td>&quot;198112&quot;</td></tr><tr><td>53265</td><td>&quot;1416&quot;</td><td>34101</td><td>&quot;1&quot;</td><td>10.05</td><td>1981-12-18</td><td>1981-12-18</td><td>11.0</td><td>9.99</td><td>74517700</td><td>0.0</td><td>&quot;TB&quot;</td><td>0.908182</td><td>0.248818</td><td>0</td><td>0</td><td>0.0</td><td>67743300</td><td>74517700</td><td>1981</td><td>12</td><td>0</td><td>1981-01-01</td><td>&quot;A&quot;</td><td>4</td><td>&quot;A&quot;</td><td>74517.7</td><td>-47933.0</td><td>-0.64</td><td>null</td><td>0.0</td><td>0.0</td><td>0.0</td><td>&quot;198112&quot;</td></tr><tr><td>53282</td><td>&quot;1429&quot;</td><td>34088</td><td>&quot;1&quot;</td><td>18.5</td><td>1981-12-21</td><td>1981-12-21</td><td>18.9</td><td>17.66</td><td>23540000</td><td>0.0</td><td>&quot;TB&quot;</td><td>0.934392</td><td>0.608197</td><td>0</td><td>0</td><td>0.0</td><td>22000000</td><td>23540000</td><td>1981</td><td>12</td><td>0</td><td>1981-01-01</td><td>&quot;A&quot;</td><td>4</td><td>&quot;A&quot;</td><td>23540.0</td><td>20240.0</td><td>0.86</td><td>null</td><td>0.0</td><td>0.0</td><td>0.0</td><td>&quot;198112&quot;</td></tr><tr><td>53583</td><td>&quot;1602&quot;</td><td>25423</td><td>&quot;1&quot;</td><td>10.35</td><td>1982-12-10</td><td>1982-12-10</td><td>11.15</td><td>10.42</td><td>184575000</td><td>0.0</td><td>&quot;TB&quot;</td><td>0.934529</td><td>0.096068</td><td>0</td><td>0</td><td>0.0</td><td>172500000</td><td>184575000</td><td>1982</td><td>12</td><td>0</td><td>1982-01-01</td><td>&quot;A&quot;</td><td>4</td><td>&quot;A&quot;</td><td>184575.0</td><td>-49589.0</td><td>-0.27</td><td>674717.0</td><td>0.0</td><td>0.0</td><td>0.0</td><td>&quot;198212&quot;</td></tr><tr><td>53611</td><td>&quot;1605&quot;</td><td>33756</td><td>&quot;1&quot;</td><td>10.2</td><td>1982-12-11</td><td>1982-12-11</td><td>11.8</td><td>10.17</td><td>149872000</td><td>0.0</td><td>&quot;TB&quot;</td><td>0.861864</td><td>0.035354</td><td>0</td><td>0</td><td>0.0</td><td>129200000</td><td>149872000</td><td>1982</td><td>12</td><td>0</td><td>1982-01-01</td><td>&quot;A&quot;</td><td>4</td><td>&quot;A&quot;</td><td>149872.0</td><td>-12503.0</td><td>-0.08</td><td>363574.0</td><td>0.0</td><td>0.0</td><td>0.0</td><td>&quot;198212&quot;</td></tr><tr><td>54933</td><td>&quot;2504&quot;</td><td>32286</td><td>&quot;1&quot;</td><td>16.0</td><td>1983-12-09</td><td>1983-12-09</td><td>16.7</td><td>15.58</td><td>84000000</td><td>0.0</td><td>&quot;TB&quot;</td><td>0.932934</td><td>0.066084</td><td>0</td><td>0</td><td>10.0</td><td>70000000</td><td>84000000</td><td>1983</td><td>12</td><td>0</td><td>1983-01-01</td><td>&quot;A&quot;</td><td>4</td><td>&quot;A&quot;</td><td>70000.0</td><td>85781.0</td><td>1.23</td><td>-38540.0</td><td>0.0</td><td>0.0</td><td>0.0</td><td>&quot;198312&quot;</td></tr><tr><td>&hellip;</td><td>&hellip;</td><td>&hellip;</td><td>&hellip;</td><td>&hellip;</td><td>&hellip;</td><td>&hellip;</td><td>&hellip;</td><td>&hellip;</td><td>&hellip;</td><td>&hellip;</td><td>&hellip;</td><td>&hellip;</td><td>&hellip;</td><td>&hellip;</td><td>&hellip;</td><td>&hellip;</td><td>&hellip;</td><td>&hellip;</td><td>&hellip;</td><td>&hellip;</td><td>&hellip;</td><td>&hellip;</td><td>&hellip;</td><td>&hellip;</td><td>&hellip;</td><td>&hellip;</td><td>&hellip;</td><td>&hellip;</td><td>&hellip;</td><td>&hellip;</td><td>&hellip;</td><td>&hellip;</td><td>&hellip;</td></tr><tr><td>6791409</td><td>&quot;4577&quot;</td><td>37942</td><td>&quot;1&quot;</td><td>31.0</td><td>2023-03-31</td><td>2023-03-31</td><td>30.95</td><td>30.95</td><td>49308711</td><td>null</td><td>&quot;TB&quot;</td><td>1.0</td><td>1.0</td><td>null</td><td>null</td><td>null</td><td>49255711</td><td>49308711</td><td>2023</td><td>3</td><td>9</td><td>2023-01-01</td><td>&quot;A&quot;</td><td>1</td><td>&quot;M&quot;</td><td>49082.0</td><td>21924.0</td><td>0.44668</td><td>-88304.0</td><td>0.0</td><td>0.0</td><td>0.0</td><td>&quot;202303&quot;</td></tr><tr><td>6847928</td><td>&quot;6715&quot;</td><td>34680</td><td>&quot;1&quot;</td><td>165.5</td><td>2023-03-31</td><td>2023-03-31</td><td>169.0</td><td>169.0</td><td>62086827</td><td>null</td><td>&quot;TB&quot;</td><td>1.0</td><td>1.0</td><td>null</td><td>null</td><td>null</td><td>61870709</td><td>62086827</td><td>2023</td><td>3</td><td>9</td><td>2023-01-01</td><td>&quot;A&quot;</td><td>1</td><td>&quot;M&quot;</td><td>61889.0</td><td>99138.0</td><td>1.60187</td><td>213828.0</td><td>0.0</td><td>0.0</td><td>0.0</td><td>&quot;202303&quot;</td></tr><tr><td>6859867</td><td>&quot;4580&quot;</td><td>28029</td><td>&quot;1&quot;</td><td>90.7</td><td>2023-03-31</td><td>2023-03-31</td><td>91.9</td><td>91.9</td><td>43133107</td><td>null</td><td>&quot;TB&quot;</td><td>1.0</td><td>1.0</td><td>null</td><td>null</td><td>null</td><td>43132000</td><td>43133107</td><td>2023</td><td>3</td><td>9</td><td>2023-01-01</td><td>&quot;A&quot;</td><td>1</td><td>&quot;M&quot;</td><td>43132.0</td><td>82051.0</td><td>1.90232</td><td>124802.0</td><td>0.0</td><td>0.0</td><td>0.0</td><td>&quot;202303&quot;</td></tr><tr><td>6889680</td><td>&quot;8916A&quot;</td><td>33438</td><td>&quot;2&quot;</td><td>54.6</td><td>2023-03-31</td><td>2023-03-31</td><td>54.6</td><td>54.6</td><td>8191547</td><td>null</td><td>&quot;TB&quot;</td><td>1.0</td><td>1.0</td><td>null</td><td>null</td><td>null</td><td>9611698</td><td>8191547</td><td>2023</td><td>3</td><td>9</td><td>2023-01-01</td><td>&quot;A&quot;</td><td>1</td><td>&quot;M&quot;</td><td>141576.0</td><td>95288.0</td><td>0.5284</td><td>-294135.0</td><td>0.0</td><td>0.0</td><td>0.0</td><td>&quot;202303&quot;</td></tr><tr><td>6896509</td><td>&quot;1341&quot;</td><td>6632461</td><td>&quot;1&quot;</td><td>70.0</td><td>2023-03-31</td><td>2023-03-31</td><td>70.3</td><td>70.3</td><td>51139303</td><td>null</td><td>&quot;TB&quot;</td><td>1.0</td><td>1.0</td><td>null</td><td>null</td><td>null</td><td>51002281</td><td>51139303</td><td>2023</td><td>3</td><td>9</td><td>2023-01-01</td><td>&quot;A&quot;</td><td>1</td><td>&quot;M&quot;</td><td>50976.0</td><td>69710.0</td><td>1.36751</td><td>48649.0</td><td>0.0</td><td>0.0</td><td>0.0</td><td>&quot;202303&quot;</td></tr><tr><td>6900347</td><td>&quot;6719&quot;</td><td>6877732</td><td>&quot;1&quot;</td><td>310.5</td><td>2023-03-31</td><td>2023-03-31</td><td>315.0</td><td>315.0</td><td>81021700</td><td>null</td><td>&quot;TB&quot;</td><td>1.0</td><td>1.0</td><td>null</td><td>null</td><td>null</td><td>80824700</td><td>81021700</td><td>2023</td><td>3</td><td>9</td><td>2023-01-01</td><td>&quot;A&quot;</td><td>1</td><td>&quot;M&quot;</td><td>80017.0</td><td>-22136.0</td><td>-0.27664</td><td>-202937.0</td><td>0.0</td><td>0.0</td><td>0.0</td><td>&quot;202303&quot;</td></tr><tr><td>7005945</td><td>&quot;6727&quot;</td><td>25855</td><td>&quot;1&quot;</td><td>71.1</td><td>2023-03-31</td><td>2023-03-31</td><td>70.9</td><td>70.9</td><td>24048355</td><td>null</td><td>&quot;TB&quot;</td><td>1.0</td><td>0.943706</td><td>null</td><td>null</td><td>null</td><td>23505357</td><td>24048355</td><td>2023</td><td>3</td><td>9</td><td>2023-01-01</td><td>&quot;A&quot;</td><td>1</td><td>&quot;M&quot;</td><td>23455.0</td><td>30324.0</td><td>1.29286</td><td>-47447.0</td><td>0.0</td><td>0.0</td><td>0.0</td><td>&quot;202303&quot;</td></tr><tr><td>7182800</td><td>&quot;2754&quot;</td><td>7182462</td><td>&quot;1&quot;</td><td>157.0</td><td>2023-03-31</td><td>2023-03-31</td><td>152.0</td><td>152.0</td><td>46717000</td><td>null</td><td>&quot;TB&quot;</td><td>1.0</td><td>1.0</td><td>null</td><td>null</td><td>null</td><td>46715000</td><td>46717000</td><td>2023</td><td>3</td><td>9</td><td>2023-01-01</td><td>&quot;A&quot;</td><td>1</td><td>&quot;M&quot;</td><td>46647.0</td><td>86833.0</td><td>1.86149</td><td>244961.0</td><td>0.0</td><td>0.0</td><td>0.0</td><td>&quot;202303&quot;</td></tr><tr><td>7539811</td><td>&quot;4129A&quot;</td><td>29753</td><td>&quot;2&quot;</td><td>53.6</td><td>2023-03-31</td><td>2023-03-31</td><td>53.8</td><td>53.8</td><td>7828484</td><td>null</td><td>&quot;TB&quot;</td><td>1.0</td><td>1.0</td><td>null</td><td>null</td><td>null</td><td>9980000</td><td>7828484</td><td>2023</td><td>3</td><td>9</td><td>2023-01-01</td><td>&quot;A&quot;</td><td>1</td><td>&quot;M&quot;</td><td>78293.0</td><td>66623.0</td><td>0.85094</td><td>46514.0</td><td>0.0</td><td>0.0</td><td>0.0</td><td>&quot;202303&quot;</td></tr><tr><td>7609623</td><td>&quot;6761&quot;</td><td>7608327</td><td>&quot;1&quot;</td><td>99.4</td><td>2023-03-31</td><td>2023-03-31</td><td>99.5</td><td>99.5</td><td>23909517</td><td>null</td><td>&quot;TB&quot;</td><td>1.0</td><td>1.0</td><td>null</td><td>null</td><td>null</td><td>23908513</td><td>23909517</td><td>2023</td><td>3</td><td>9</td><td>2023-01-01</td><td>&quot;A&quot;</td><td>1</td><td>&quot;M&quot;</td><td>23909.0</td><td>24739.0</td><td>1.03471</td><td>23858.0</td><td>0.0</td><td>0.0</td><td>0.0</td><td>&quot;202303&quot;</td></tr><tr><td>10577312</td><td>&quot;6770&quot;</td><td>32825</td><td>&quot;1&quot;</td><td>33.1</td><td>2023-03-31</td><td>2023-03-31</td><td>32.9</td><td>32.9</td><td>4066992345</td><td>null</td><td>&quot;TB&quot;</td><td>1.0</td><td>1.0</td><td>null</td><td>null</td><td>null</td><td>4055585495</td><td>4066992345</td><td>2023</td><td>3</td><td>9</td><td>2023-01-01</td><td>&quot;A&quot;</td><td>1</td><td>&quot;M&quot;</td><td>4.03747e6</td><td>186779.0</td><td>0.04626</td><td>-621942.0</td><td>0.0</td><td>0.0</td><td>0.0</td><td>&quot;202303&quot;</td></tr><tr><td>13050873</td><td>&quot;2250&quot;</td><td>12853747</td><td>&quot;1&quot;</td><td>72.3</td><td>2023-03-31</td><td>2023-03-31</td><td>72.1</td><td>72.1</td><td>29252408</td><td>null</td><td>&quot;TB&quot;</td><td>1.0</td><td>1.0</td><td>null</td><td>null</td><td>null</td><td>29232408</td><td>29252408</td><td>2023</td><td>3</td><td>9</td><td>2023-01-01</td><td>&quot;A&quot;</td><td>1</td><td>&quot;M&quot;</td><td>29235.0</td><td>-1821.0</td><td>-0.06229</td><td>48981.0</td><td>0.0</td><td>0.0</td><td>0.0</td><td>&quot;202303&quot;</td></tr></tbody></table></div>"
      ],
      "text/plain": [
       "shape: (32_825, 34)\n",
       "┌───────────┬────────┬───────────┬──────────┬───┬────────────┬────────────┬───────────┬────────────┐\n",
       "│ tej_fp_id ┆ stk_id ┆ tej_comp_ ┆ stk_type ┆ … ┆ par_Buybac ┆ chi_Buybac ┆ Buyback_c ┆ year_month │\n",
       "│ ---       ┆ ---    ┆ id        ┆ ---      ┆   ┆ k_com      ┆ k_com      ┆ om        ┆ ---        │\n",
       "│ i64       ┆ str    ┆ ---       ┆ str      ┆   ┆ ---        ┆ ---        ┆ ---       ┆ str        │\n",
       "│           ┆        ┆ i64       ┆          ┆   ┆ f64        ┆ f64        ┆ f64       ┆            │\n",
       "╞═══════════╪════════╪═══════════╪══════════╪═══╪════════════╪════════════╪═══════════╪════════════╡\n",
       "│ 53791     ┆ 1801   ┆ 34343     ┆ 1        ┆ … ┆ 0.0        ┆ 0.0        ┆ 0.0       ┆ 197912     │\n",
       "│ 58408     ┆ 8701   ┆ 35009     ┆ 1        ┆ … ┆ 0.0        ┆ 0.0        ┆ 0.0       ┆ 198012     │\n",
       "│ 54041     ┆ 2102   ┆ 34187     ┆ 1        ┆ … ┆ 0.0        ┆ 0.0        ┆ 0.0       ┆ 198112     │\n",
       "│ 53046     ┆ 1203   ┆ 26360     ┆ 1        ┆ … ┆ 0.0        ┆ 0.0        ┆ 0.0       ┆ 198112     │\n",
       "│ …         ┆ …      ┆ …         ┆ …        ┆ … ┆ …          ┆ …          ┆ …         ┆ …          │\n",
       "│ 7539811   ┆ 4129A  ┆ 29753     ┆ 2        ┆ … ┆ 0.0        ┆ 0.0        ┆ 0.0       ┆ 202303     │\n",
       "│ 7609623   ┆ 6761   ┆ 7608327   ┆ 1        ┆ … ┆ 0.0        ┆ 0.0        ┆ 0.0       ┆ 202303     │\n",
       "│ 10577312  ┆ 6770   ┆ 32825     ┆ 1        ┆ … ┆ 0.0        ┆ 0.0        ┆ 0.0       ┆ 202303     │\n",
       "│ 13050873  ┆ 2250   ┆ 12853747  ┆ 1        ┆ … ┆ 0.0        ┆ 0.0        ┆ 0.0       ┆ 202303     │\n",
       "└───────────┴────────┴───────────┴──────────┴───┴────────────┴────────────┴───────────┴────────────┘"
      ]
     },
     "execution_count": 77,
     "metadata": {},
     "output_type": "execute_result"
    }
   ],
   "source": [
    "modual_df = df_test.join(acc_transposed , on =['tej_comp_id','month','year'] , how='left')\n",
    "modual_df = modual_df.filter(pl.col('wavg_com').is_not_null())\n",
    "modual_df = modual_df.with_columns(pl.col('zdate').dt.strftime('%Y%m').alias('year_month'))\n",
    "modual_df = modual_df.sort(['zdate','tej_fp_id'])\n",
    "modual_df"
   ]
  },
  {
   "cell_type": "code",
   "execution_count": 67,
   "metadata": {},
   "outputs": [
    {
     "data": {
      "text/html": [
       "<div><style>\n",
       ".dataframe > thead > tr > th,\n",
       ".dataframe > tbody > tr > td {\n",
       "  text-align: right;\n",
       "}\n",
       "</style>\n",
       "<small>shape: (12_968, 3)</small><table border=\"1\" class=\"dataframe\"><thead><tr><th>tej_fp_id</th><th>year</th><th>AVG</th></tr><tr><td>i64</td><td>i32</td><td>list[i64]</td></tr></thead><tbody><tr><td>53187</td><td>2023</td><td>[1356567732, null]</td></tr><tr><td>53433</td><td>2023</td><td>[300080376]</td></tr><tr><td>53489</td><td>2023</td><td>[144031625]</td></tr><tr><td>53555</td><td>2023</td><td>[37485537]</td></tr><tr><td>54400</td><td>2023</td><td>[560156397]</td></tr><tr><td>54627</td><td>2023</td><td>[778435271]</td></tr><tr><td>55003</td><td>2023</td><td>[736777382]</td></tr><tr><td>55385</td><td>2023</td><td>[102193220]</td></tr><tr><td>55729</td><td>2023</td><td>[239035022, 238971891]</td></tr><tr><td>55862</td><td>2023</td><td>[86433295]</td></tr><tr><td>55883</td><td>2023</td><td>[91861734]</td></tr><tr><td>56411</td><td>2023</td><td>[75823916]</td></tr><tr><td>&hellip;</td><td>&hellip;</td><td>&hellip;</td></tr><tr><td>53619</td><td>1986</td><td>[null]</td></tr><tr><td>53166</td><td>1986</td><td>[null]</td></tr><tr><td>53086</td><td>1985</td><td>[null]</td></tr><tr><td>53063</td><td>1985</td><td>[null]</td></tr><tr><td>53157</td><td>1985</td><td>[null]</td></tr><tr><td>54515</td><td>1984</td><td>[516550536]</td></tr><tr><td>54065</td><td>1984</td><td>[393343135]</td></tr><tr><td>53054</td><td>1983</td><td>[40486575]</td></tr><tr><td>54933</td><td>1983</td><td>[75032103]</td></tr><tr><td>53611</td><td>1982</td><td>[149907642]</td></tr><tr><td>53282</td><td>1981</td><td>[23544722]</td></tr><tr><td>54515</td><td>1981</td><td>[409418188]</td></tr></tbody></table></div>"
      ],
      "text/plain": [
       "shape: (12_968, 3)\n",
       "┌───────────┬──────┬────────────────────┐\n",
       "│ tej_fp_id ┆ year ┆ AVG                │\n",
       "│ ---       ┆ ---  ┆ ---                │\n",
       "│ i64       ┆ i32  ┆ list[i64]          │\n",
       "╞═══════════╪══════╪════════════════════╡\n",
       "│ 53187     ┆ 2023 ┆ [1356567732, null] │\n",
       "│ 53433     ┆ 2023 ┆ [300080376]        │\n",
       "│ 53489     ┆ 2023 ┆ [144031625]        │\n",
       "│ 53555     ┆ 2023 ┆ [37485537]         │\n",
       "│ …         ┆ …    ┆ …                  │\n",
       "│ 54933     ┆ 1983 ┆ [75032103]         │\n",
       "│ 53611     ┆ 1982 ┆ [149907642]        │\n",
       "│ 53282     ┆ 1981 ┆ [23544722]         │\n",
       "│ 54515     ┆ 1981 ┆ [409418188]        │\n",
       "└───────────┴──────┴────────────────────┘"
      ]
     },
     "execution_count": 67,
     "metadata": {},
     "output_type": "execute_result"
    }
   ],
   "source": [
    "result = modual_df.groupby([\"tej_fp_id\",\"year\"]).agg(\n",
    "    (pl.col(\"pre_ex_total_share\")/pl.col(\"j\")*(12-pl.col(\"M\"))/12+pl.col(\"stkcap_total_share\")*pl.col(\"M\")/12).alias(\"AVG\").cast(pl.Int64))\n",
    "df_test = df_test.join(result, on =  ['tej_fp_id' , 'year' ], how ='left')\n",
    "df_test \n",
    "result"
   ]
  },
  {
   "cell_type": "code",
   "execution_count": 5,
   "metadata": {},
   "outputs": [
    {
     "data": {
      "text/html": [
       "<div><style>\n",
       ".dataframe > thead > tr > th,\n",
       ".dataframe > tbody > tr > td {\n",
       "  text-align: right;\n",
       "}\n",
       "</style>\n",
       "<small>shape: (5, 16)</small><table border=\"1\" class=\"dataframe\"><thead><tr><th>tej_fp_id</th><th>stk_type</th><th>stk_id</th><th>close</th><th>zdate</th><th>stk_ex_date</th><th>pre_close</th><th>ex_price</th><th>issue_price</th><th>pre_ex_total_share</th><th>stkcap_total_share</th><th>year</th><th>month</th><th>M</th><th>J</th><th>AVG</th></tr><tr><td>i64</td><td>i64</td><td>str</td><td>f64</td><td>date</td><td>date</td><td>f64</td><td>f64</td><td>f64</td><td>i64</td><td>i64</td><td>i32</td><td>u32</td><td>u32</td><td>f64</td><td>i64</td></tr></thead><tbody><tr><td>54670</td><td>1</td><td>&quot;2409&quot;</td><td>25.3</td><td>2001-01-17</td><td>2001-01-17</td><td>24.9</td><td>24.55</td><td>22.0</td><td>1100000000</td><td>1250000000</td><td>2001</td><td>1</td><td>11</td><td>0.985944</td><td>1238806856</td></tr><tr><td>54670</td><td>1</td><td>&quot;2409&quot;</td><td>41.6</td><td>2002-05-23</td><td>2002-05-23</td><td>41.7</td><td>41.7</td><td>39.72</td><td>2970581607</td><td>3470581607</td><td>2002</td><td>5</td><td>7</td><td>1.0</td><td>3262248273</td></tr><tr><td>54670</td><td>1</td><td>&quot;2409&quot;</td><td>51.0</td><td>2004-06-18</td><td>2004-06-18</td><td>53.0</td><td>53.0</td><td>53.8</td><td>4658040897</td><td>4958040897</td><td>2004</td><td>6</td><td>6</td><td>1.0</td><td>4808040897</td></tr><tr><td>54670</td><td>1</td><td>&quot;2409&quot;</td><td>50.6</td><td>2005-07-22</td><td>2005-07-22</td><td>51.1</td><td>51.1</td><td>48.9</td><td>5500547132</td><td>5830547132</td><td>2005</td><td>7</td><td>5</td><td>1.0</td><td>5638047132</td></tr><tr><td>54670</td><td>1</td><td>&quot;2409&quot;</td><td>13.45</td><td>2013-05-07</td><td>2013-05-07</td><td>13.65</td><td>13.65</td><td>13.04</td><td>8827045535</td><td>9624245115</td><td>2013</td><td>5</td><td>7</td><td>1.0</td><td>9292078623</td></tr></tbody></table></div>"
      ],
      "text/plain": [
       "shape: (5, 16)\n",
       "┌───────────┬──────────┬────────┬───────┬───┬───────┬─────┬──────────┬────────────┐\n",
       "│ tej_fp_id ┆ stk_type ┆ stk_id ┆ close ┆ … ┆ month ┆ M   ┆ J        ┆ AVG        │\n",
       "│ ---       ┆ ---      ┆ ---    ┆ ---   ┆   ┆ ---   ┆ --- ┆ ---      ┆ ---        │\n",
       "│ i64       ┆ i64      ┆ str    ┆ f64   ┆   ┆ u32   ┆ u32 ┆ f64      ┆ i64        │\n",
       "╞═══════════╪══════════╪════════╪═══════╪═══╪═══════╪═════╪══════════╪════════════╡\n",
       "│ 54670     ┆ 1        ┆ 2409   ┆ 25.3  ┆ … ┆ 1     ┆ 11  ┆ 0.985944 ┆ 1238806856 │\n",
       "│ 54670     ┆ 1        ┆ 2409   ┆ 41.6  ┆ … ┆ 5     ┆ 7   ┆ 1.0      ┆ 3262248273 │\n",
       "│ 54670     ┆ 1        ┆ 2409   ┆ 51.0  ┆ … ┆ 6     ┆ 6   ┆ 1.0      ┆ 4808040897 │\n",
       "│ 54670     ┆ 1        ┆ 2409   ┆ 50.6  ┆ … ┆ 7     ┆ 5   ┆ 1.0      ┆ 5638047132 │\n",
       "│ 54670     ┆ 1        ┆ 2409   ┆ 13.45 ┆ … ┆ 5     ┆ 7   ┆ 1.0      ┆ 9292078623 │\n",
       "└───────────┴──────────┴────────┴───────┴───┴───────┴─────┴──────────┴────────────┘"
      ]
     },
     "execution_count": 5,
     "metadata": {},
     "output_type": "execute_result"
    }
   ],
   "source": [
    "df_test = df_test.filter(pl.col('tej_fp_id')==54670)\n",
    "df_test = df_test.with_columns((12-pl.col(\"month\")).alias(\"M\"))\n",
    "df_test = df_test.with_columns((pl.col(\"ex_price\")/pl.col(\"pre_close\")).alias(\"J\"))\n",
    "df_test = df_test.with_columns((pl.col(\"pre_ex_total_share\")/pl.col(\"J\")*(12-pl.col(\"M\"))/12+pl.col(\"stkcap_total_share\")*pl.col(\"M\")/12).alias(\"AVG\").cast(pl.Int64))\n",
    "\n",
    "df_test"
   ]
  }
 ],
 "metadata": {
  "kernelspec": {
   "display_name": "base",
   "language": "python",
   "name": "python3"
  },
  "language_info": {
   "codemirror_mode": {
    "name": "ipython",
    "version": 3
   },
   "file_extension": ".py",
   "mimetype": "text/x-python",
   "name": "python",
   "nbconvert_exporter": "python",
   "pygments_lexer": "ipython3",
   "version": "3.9.13"
  },
  "orig_nbformat": 4
 },
 "nbformat": 4,
 "nbformat_minor": 2
}
